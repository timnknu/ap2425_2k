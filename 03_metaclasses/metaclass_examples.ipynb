{
  "nbformat": 4,
  "nbformat_minor": 0,
  "metadata": {
    "colab": {
      "provenance": []
    },
    "kernelspec": {
      "name": "python3",
      "display_name": "Python 3"
    },
    "language_info": {
      "name": "python"
    }
  },
  "cells": [
    {
      "cell_type": "code",
      "execution_count": null,
      "metadata": {
        "id": "jp9sAh5uJvFK"
      },
      "outputs": [],
      "source": [
        "%reset -f"
      ]
    },
    {
      "cell_type": "markdown",
      "source": [
        "&nbsp;\n",
        "\n",
        "---\n",
        "\n",
        "Аналогія: код (\"тіло\") функції vs ім'я функції:"
      ],
      "metadata": {
        "id": "moMigwOdNssV"
      }
    },
    {
      "cell_type": "code",
      "source": [
        "def h(x):\n",
        "  print('x =', x)\n",
        "k = h\n",
        "k(5)"
      ],
      "metadata": {
        "colab": {
          "base_uri": "https://localhost:8080/"
        },
        "id": "Bg919gAQNlzK",
        "outputId": "73727cfd-0d46-4131-a35f-8fd6bec39153"
      },
      "execution_count": null,
      "outputs": [
        {
          "output_type": "stream",
          "name": "stdout",
          "text": [
            "x = 5\n"
          ]
        }
      ]
    },
    {
      "cell_type": "markdown",
      "source": [
        "&nbsp;\n",
        "\n",
        "---\n",
        "\n",
        "Динамічне (\"на льоту\") створення класу:"
      ],
      "metadata": {
        "id": "Z_Ig6OUENyQo"
      }
    },
    {
      "cell_type": "code",
      "source": [
        "def f1(slf):\n",
        "  print('func1 called!')\n",
        "  res = f\"Hello, my name is {slf.name}!\"\n",
        "  return res\n",
        "\n",
        "def g2(slf, word):\n",
        "  print('initializing, word =', word)\n",
        "  slf.name = word\n",
        "\n",
        "attrs = {\n",
        "    'greet': f1,\n",
        "    '__init__': g2\n",
        "}\n",
        "\n",
        "C1 = type('Person', (object,), attrs)"
      ],
      "metadata": {
        "id": "V_yVBcE6MrfM"
      },
      "execution_count": null,
      "outputs": []
    },
    {
      "cell_type": "code",
      "source": [
        "# Create an instance of the dynamically created class\n",
        "obj = C1(\"Alice\")"
      ],
      "metadata": {
        "colab": {
          "base_uri": "https://localhost:8080/"
        },
        "id": "3emfHefMNdgT",
        "outputId": "3840c264-5bbf-4cd2-b93c-9fb20670100d"
      },
      "execution_count": null,
      "outputs": [
        {
          "output_type": "stream",
          "name": "stdout",
          "text": [
            "initializing, word = Alice\n"
          ]
        }
      ]
    },
    {
      "cell_type": "code",
      "source": [
        "print(type(obj))"
      ],
      "metadata": {
        "colab": {
          "base_uri": "https://localhost:8080/"
        },
        "id": "BwbUzoomNgS-",
        "outputId": "b508c070-a42f-4463-f450-089816851b26"
      },
      "execution_count": null,
      "outputs": [
        {
          "output_type": "stream",
          "name": "stdout",
          "text": [
            "<class '__main__.Person'>\n"
          ]
        }
      ]
    },
    {
      "cell_type": "markdown",
      "source": [
        "  Бачимо, що друкує не 'C1', тобто \"суть\" класу була \"поміщена\" у змінну `C1`, хоча ім'я клас має 'Person'."
      ],
      "metadata": {
        "id": "bfGknsefPjQW"
      }
    },
    {
      "cell_type": "code",
      "source": [
        "isinstance(obj, C1)"
      ],
      "metadata": {
        "colab": {
          "base_uri": "https://localhost:8080/"
        },
        "id": "ujweqbL5OnWD",
        "outputId": "54970a73-f989-4644-aaab-4e95f0739814"
      },
      "execution_count": null,
      "outputs": [
        {
          "output_type": "execute_result",
          "data": {
            "text/plain": [
              "True"
            ]
          },
          "metadata": {},
          "execution_count": 71
        }
      ]
    },
    {
      "cell_type": "markdown",
      "source": [
        "Перевіримо, що `obj` дійсно працює:"
      ],
      "metadata": {
        "id": "EKVRKqa8P40K"
      }
    },
    {
      "cell_type": "code",
      "source": [
        "msg = obj.greet()\n",
        "print('msg:', msg)"
      ],
      "metadata": {
        "colab": {
          "base_uri": "https://localhost:8080/"
        },
        "id": "WXWQd510NgVx",
        "outputId": "a5f6abf7-25db-41c1-8ae0-c6b1bb684bb1"
      },
      "execution_count": null,
      "outputs": [
        {
          "output_type": "stream",
          "name": "stdout",
          "text": [
            "func1 called!\n",
            "msg: Hello, my name is Alice!\n"
          ]
        }
      ]
    },
    {
      "cell_type": "markdown",
      "source": [
        "Bonus: \"ручне\" створення об'єкта (\"вручну\" можна створювати не лише класи!)"
      ],
      "metadata": {
        "id": "inNY6yoJPZK3"
      }
    },
    {
      "cell_type": "code",
      "source": [
        "x = object.__new__(C1)"
      ],
      "metadata": {
        "id": "8eTHd9VfOXMk"
      },
      "execution_count": null,
      "outputs": []
    },
    {
      "cell_type": "code",
      "source": [
        "isinstance(x, C1)"
      ],
      "metadata": {
        "colab": {
          "base_uri": "https://localhost:8080/"
        },
        "id": "0lBsZxW5PLix",
        "outputId": "0e19c436-d366-411b-d73b-679313fab951"
      },
      "execution_count": null,
      "outputs": [
        {
          "output_type": "execute_result",
          "data": {
            "text/plain": [
              "True"
            ]
          },
          "metadata": {},
          "execution_count": 74
        }
      ]
    },
    {
      "cell_type": "code",
      "source": [
        "x.greet()"
      ],
      "metadata": {
        "colab": {
          "base_uri": "https://localhost:8080/",
          "height": 280
        },
        "id": "ArvQ_vIoPNwT",
        "outputId": "ee5be7e0-743c-46a3-9183-79f7b126527b"
      },
      "execution_count": null,
      "outputs": [
        {
          "output_type": "stream",
          "name": "stdout",
          "text": [
            "func1 called!\n"
          ]
        },
        {
          "output_type": "error",
          "ename": "AttributeError",
          "evalue": "'Person' object has no attribute 'name'",
          "traceback": [
            "\u001b[0;31m---------------------------------------------------------------------------\u001b[0m",
            "\u001b[0;31mAttributeError\u001b[0m                            Traceback (most recent call last)",
            "\u001b[0;32m<ipython-input-75-401319194acc>\u001b[0m in \u001b[0;36m<cell line: 1>\u001b[0;34m()\u001b[0m\n\u001b[0;32m----> 1\u001b[0;31m \u001b[0mx\u001b[0m\u001b[0;34m.\u001b[0m\u001b[0mgreet\u001b[0m\u001b[0;34m(\u001b[0m\u001b[0;34m)\u001b[0m\u001b[0;34m\u001b[0m\u001b[0;34m\u001b[0m\u001b[0m\n\u001b[0m",
            "\u001b[0;32m<ipython-input-68-e4da4b60e45c>\u001b[0m in \u001b[0;36mf1\u001b[0;34m(slf)\u001b[0m\n\u001b[1;32m      1\u001b[0m \u001b[0;32mdef\u001b[0m \u001b[0mf1\u001b[0m\u001b[0;34m(\u001b[0m\u001b[0mslf\u001b[0m\u001b[0;34m)\u001b[0m\u001b[0;34m:\u001b[0m\u001b[0;34m\u001b[0m\u001b[0;34m\u001b[0m\u001b[0m\n\u001b[1;32m      2\u001b[0m   \u001b[0mprint\u001b[0m\u001b[0;34m(\u001b[0m\u001b[0;34m'func1 called!'\u001b[0m\u001b[0;34m)\u001b[0m\u001b[0;34m\u001b[0m\u001b[0;34m\u001b[0m\u001b[0m\n\u001b[0;32m----> 3\u001b[0;31m   \u001b[0mres\u001b[0m \u001b[0;34m=\u001b[0m \u001b[0;34mf\"Hello, my name is {slf.name}!\"\u001b[0m\u001b[0;34m\u001b[0m\u001b[0;34m\u001b[0m\u001b[0m\n\u001b[0m\u001b[1;32m      4\u001b[0m   \u001b[0;32mreturn\u001b[0m \u001b[0mres\u001b[0m\u001b[0;34m\u001b[0m\u001b[0;34m\u001b[0m\u001b[0m\n\u001b[1;32m      5\u001b[0m \u001b[0;34m\u001b[0m\u001b[0m\n",
            "\u001b[0;31mAttributeError\u001b[0m: 'Person' object has no attribute 'name'"
          ]
        }
      ]
    },
    {
      "cell_type": "code",
      "source": [
        "x.__init__('Bob')"
      ],
      "metadata": {
        "colab": {
          "base_uri": "https://localhost:8080/"
        },
        "id": "Fr02ceHPPRL-",
        "outputId": "310b5244-873d-49a0-8882-c56efbdf44b6"
      },
      "execution_count": null,
      "outputs": [
        {
          "output_type": "stream",
          "name": "stdout",
          "text": [
            "initializing, word = Bob\n"
          ]
        }
      ]
    },
    {
      "cell_type": "code",
      "source": [
        "x.greet()"
      ],
      "metadata": {
        "colab": {
          "base_uri": "https://localhost:8080/",
          "height": 53
        },
        "id": "qXH0Cb-3PW6n",
        "outputId": "c1137657-d9c5-4b37-eb20-7bed97d109a0"
      },
      "execution_count": null,
      "outputs": [
        {
          "output_type": "stream",
          "name": "stdout",
          "text": [
            "func1 called!\n"
          ]
        },
        {
          "output_type": "execute_result",
          "data": {
            "text/plain": [
              "'Hello, my name is Bob!'"
            ],
            "application/vnd.google.colaboratory.intrinsic+json": {
              "type": "string"
            }
          },
          "metadata": {},
          "execution_count": 77
        }
      ]
    },
    {
      "cell_type": "markdown",
      "source": [
        "&nbsp;\n",
        "\n",
        "---"
      ],
      "metadata": {
        "id": "CDE4twpBMpXV"
      }
    },
    {
      "cell_type": "markdown",
      "source": [
        "Деякі спеціальні методи, що стосуються метакласів:\n",
        "\n",
        "* для класу:\n",
        "\n",
        "`__prepare__`: Called before `__new__` to create the namespace dictionary for the class.\n",
        "\n",
        "`__new__`: Creates and returns the class object.\n",
        "\n",
        "`__init__`: Initializes the newly created class.\n",
        "\n",
        "* для об'єктів:\n",
        "\n",
        "`__call__`: Called when creating an instance of the class.\n",
        "\n",
        "`__instancecheck__`: Used for isinstance() checks.\n",
        "\n",
        "`__subclasscheck__`: Used for issubclass() checks.\n",
        "\n",
        "* Інші атрибути метакласа:\n",
        "\n",
        "Class attributes and methods defined in a metaclass become attributes of the type object of the classes created with that metaclass. They are accessible on the class itself, but not directly on instances of the class."
      ],
      "metadata": {
        "id": "gCi-6ls0LQrr"
      }
    },
    {
      "cell_type": "code",
      "source": [
        "class MyMetaclass(type):\n",
        "    def __prepare__(name, bases):\n",
        "        print(\"__prepare__ called\")\n",
        "        return {'prepared_attr': 'bonus!'}\n",
        "\n",
        "    def __new__(mcs, name, bases, namespace):\n",
        "        res = super().__new__(mcs, name, bases, namespace)\n",
        "        print(\"__new__ called --->\", res)\n",
        "        return res\n",
        "\n",
        "    def __init__(cls, name, bases, namespace):\n",
        "        res = super().__init__(name, bases, namespace)\n",
        "        print(\"__init__ called --->\", res)\n",
        "        return res\n",
        "\n",
        "    def __call__(cls, *args, **kwargs):\n",
        "        res = super().__call__(*args, **kwargs)\n",
        "        print(\"__call__ called --->\", res)\n",
        "        return res\n",
        "\n",
        "    def metaclass_method(cls):\n",
        "        print(\"metaclass_method called\")\n",
        "\n",
        "    class_attribute = \"I'm a class attribute of the metaclass\"\n",
        "\n"
      ],
      "metadata": {
        "id": "o-BnEPxKKGFx"
      },
      "execution_count": null,
      "outputs": []
    },
    {
      "cell_type": "markdown",
      "source": [
        "Примітки:\n",
        "\n",
        "It's generally recommended to inherit from `type` when creating a metaclass, but it's not strictly necessary in all cases (If you don't inherit from `type`, you'd need to implement all the necessary methods to create and initialize classes yourself, which is complex and error-prone)\n",
        "\n",
        "Calling `super()` in metaclass methods is a good practice, but not always strictly necessary."
      ],
      "metadata": {
        "id": "Fcdp6nlFL_l-"
      }
    },
    {
      "cell_type": "code",
      "source": [
        "class MyClass(metaclass=MyMetaclass):\n",
        "    pass"
      ],
      "metadata": {
        "colab": {
          "base_uri": "https://localhost:8080/"
        },
        "id": "-amCIna_KJGX",
        "outputId": "d8d9e104-7eec-44bb-a58d-69eb6b279df3"
      },
      "execution_count": null,
      "outputs": [
        {
          "output_type": "stream",
          "name": "stdout",
          "text": [
            "__prepare__ called\n",
            "__new__ called ---> <class '__main__.MyClass'>\n",
            "__init__ called ---> None\n"
          ]
        }
      ]
    },
    {
      "cell_type": "code",
      "source": [
        "obj = MyClass()"
      ],
      "metadata": {
        "colab": {
          "base_uri": "https://localhost:8080/"
        },
        "id": "QL6WxTzTKKWS",
        "outputId": "a0cf85c5-c8a2-4768-867f-0c24b8b087ae"
      },
      "execution_count": null,
      "outputs": [
        {
          "output_type": "stream",
          "name": "stdout",
          "text": [
            "__call__ called ---> <__main__.MyClass object at 0x79b0bda52230>\n"
          ]
        }
      ]
    },
    {
      "cell_type": "code",
      "source": [
        "dir(obj) # має prepared_attr, але не має metaclass_method та class_attribute"
      ],
      "metadata": {
        "colab": {
          "base_uri": "https://localhost:8080/"
        },
        "id": "x04sVr0GdZFz",
        "outputId": "60d1f59a-86f5-487a-c494-57335ef940db"
      },
      "execution_count": null,
      "outputs": [
        {
          "output_type": "execute_result",
          "data": {
            "text/plain": [
              "['__class__',\n",
              " '__delattr__',\n",
              " '__dict__',\n",
              " '__dir__',\n",
              " '__doc__',\n",
              " '__eq__',\n",
              " '__format__',\n",
              " '__ge__',\n",
              " '__getattribute__',\n",
              " '__gt__',\n",
              " '__hash__',\n",
              " '__init__',\n",
              " '__init_subclass__',\n",
              " '__le__',\n",
              " '__lt__',\n",
              " '__module__',\n",
              " '__ne__',\n",
              " '__new__',\n",
              " '__reduce__',\n",
              " '__reduce_ex__',\n",
              " '__repr__',\n",
              " '__setattr__',\n",
              " '__sizeof__',\n",
              " '__str__',\n",
              " '__subclasshook__',\n",
              " '__weakref__',\n",
              " 'prepared_attr']"
            ]
          },
          "metadata": {},
          "execution_count": 145
        }
      ]
    },
    {
      "cell_type": "code",
      "source": [
        "print(obj.prepared_attr)"
      ],
      "metadata": {
        "colab": {
          "base_uri": "https://localhost:8080/"
        },
        "id": "FteVrTLtd3K6",
        "outputId": "a02cda0c-9d28-4a62-caf5-755aa2ead128"
      },
      "execution_count": null,
      "outputs": [
        {
          "output_type": "stream",
          "name": "stdout",
          "text": [
            "bonus!\n"
          ]
        }
      ]
    },
    {
      "cell_type": "code",
      "source": [
        "print(type(MyClass))"
      ],
      "metadata": {
        "colab": {
          "base_uri": "https://localhost:8080/"
        },
        "id": "1PjQFClqLC1z",
        "outputId": "811a629d-e306-4c33-8e43-00b4338a0840"
      },
      "execution_count": null,
      "outputs": [
        {
          "output_type": "stream",
          "name": "stdout",
          "text": [
            "<class '__main__.MyMetaclass'>\n"
          ]
        }
      ]
    },
    {
      "cell_type": "markdown",
      "source": [
        "&nbsp;\n",
        "\n",
        "---\n",
        "\n",
        "Як (і куди) \"успадковуються\" інші атрибути метакласа"
      ],
      "metadata": {
        "id": "3zgsy5brLN8h"
      }
    },
    {
      "cell_type": "code",
      "source": [
        "# Attributes and methods defined in a metaclass do not automatically become attributes or methods of the classes created by that metaclass.\n",
        "# Instead, they are available on the class object itself, but not on instances of the class.\n",
        "print(type(MyClass).metaclass_method)\n",
        "print(type(MyClass).class_attribute)"
      ],
      "metadata": {
        "colab": {
          "base_uri": "https://localhost:8080/"
        },
        "id": "eVdsJVP0KjYp",
        "outputId": "ba1eb80d-787d-404c-83af-7193d870ac62"
      },
      "execution_count": null,
      "outputs": [
        {
          "output_type": "stream",
          "name": "stdout",
          "text": [
            "<function MyMetaclass.metaclass_method at 0x79b0a4185bd0>\n",
            "I'm a class attribute of the metaclass\n"
          ]
        }
      ]
    },
    {
      "cell_type": "code",
      "source": [
        "# Demonstrating metaclass method\n",
        "MyClass.metaclass_method()"
      ],
      "metadata": {
        "colab": {
          "base_uri": "https://localhost:8080/"
        },
        "id": "yVgqPI52KPDH",
        "outputId": "94a3deb9-43f5-4ed9-ce4b-68c96a2fa0b6"
      },
      "execution_count": null,
      "outputs": [
        {
          "output_type": "stream",
          "name": "stdout",
          "text": [
            "metaclass_method called\n"
          ]
        }
      ]
    },
    {
      "cell_type": "code",
      "source": [
        "# Calling from instance:\n",
        "obj.metaclass_method()"
      ],
      "metadata": {
        "colab": {
          "base_uri": "https://localhost:8080/",
          "height": 159
        },
        "id": "4jn-F_QlKZna",
        "outputId": "cfae83a0-b9dc-41b8-ef59-852e6cb11dc6"
      },
      "execution_count": null,
      "outputs": [
        {
          "output_type": "error",
          "ename": "AttributeError",
          "evalue": "'MyClass' object has no attribute 'metaclass_method'",
          "traceback": [
            "\u001b[0;31m---------------------------------------------------------------------------\u001b[0m",
            "\u001b[0;31mAttributeError\u001b[0m                            Traceback (most recent call last)",
            "\u001b[0;32m<ipython-input-129-49c2eaf9c6fd>\u001b[0m in \u001b[0;36m<cell line: 2>\u001b[0;34m()\u001b[0m\n\u001b[1;32m      1\u001b[0m \u001b[0;31m# Calling from instance:\u001b[0m\u001b[0;34m\u001b[0m\u001b[0;34m\u001b[0m\u001b[0m\n\u001b[0;32m----> 2\u001b[0;31m \u001b[0mobj\u001b[0m\u001b[0;34m.\u001b[0m\u001b[0mmetaclass_method\u001b[0m\u001b[0;34m(\u001b[0m\u001b[0;34m)\u001b[0m\u001b[0;34m\u001b[0m\u001b[0;34m\u001b[0m\u001b[0m\n\u001b[0m",
            "\u001b[0;31mAttributeError\u001b[0m: 'MyClass' object has no attribute 'metaclass_method'"
          ]
        }
      ]
    },
    {
      "cell_type": "code",
      "source": [
        "# Proving it's a class method, not an instance method\n",
        "print(type(MyClass.metaclass_method))"
      ],
      "metadata": {
        "colab": {
          "base_uri": "https://localhost:8080/"
        },
        "id": "wuJx2mGLKVs4",
        "outputId": "1f8d8fc1-0c76-4dfa-ac74-b48373101921"
      },
      "execution_count": null,
      "outputs": [
        {
          "output_type": "stream",
          "name": "stdout",
          "text": [
            "<class 'method'>\n"
          ]
        }
      ]
    },
    {
      "cell_type": "code",
      "source": [
        "# Demonstrating class attribute\n",
        "print(MyClass.class_attribute)"
      ],
      "metadata": {
        "colab": {
          "base_uri": "https://localhost:8080/"
        },
        "id": "2jtLcChaKT5k",
        "outputId": "c0d35951-cac8-46e3-ab64-bbb865b4cb73"
      },
      "execution_count": null,
      "outputs": [
        {
          "output_type": "stream",
          "name": "stdout",
          "text": [
            "I'm a class attribute of the metaclass\n"
          ]
        }
      ]
    },
    {
      "cell_type": "code",
      "source": [
        "# Accessing class attribute from instance:\n",
        "print(obj.class_attribute)"
      ],
      "metadata": {
        "colab": {
          "base_uri": "https://localhost:8080/",
          "height": 159
        },
        "id": "zHDmFGfPKc9J",
        "outputId": "dda29174-2280-44e7-9ca7-3fd798b8b1c4"
      },
      "execution_count": null,
      "outputs": [
        {
          "output_type": "error",
          "ename": "AttributeError",
          "evalue": "'MyClass' object has no attribute 'class_attribute'",
          "traceback": [
            "\u001b[0;31m---------------------------------------------------------------------------\u001b[0m",
            "\u001b[0;31mAttributeError\u001b[0m                            Traceback (most recent call last)",
            "\u001b[0;32m<ipython-input-130-1bb6aefd1487>\u001b[0m in \u001b[0;36m<cell line: 2>\u001b[0;34m()\u001b[0m\n\u001b[1;32m      1\u001b[0m \u001b[0;31m# Accessing class attribute from instance:\u001b[0m\u001b[0;34m\u001b[0m\u001b[0;34m\u001b[0m\u001b[0m\n\u001b[0;32m----> 2\u001b[0;31m \u001b[0mprint\u001b[0m\u001b[0;34m(\u001b[0m\u001b[0mobj\u001b[0m\u001b[0;34m.\u001b[0m\u001b[0mclass_attribute\u001b[0m\u001b[0;34m)\u001b[0m\u001b[0;34m\u001b[0m\u001b[0;34m\u001b[0m\u001b[0m\n\u001b[0m",
            "\u001b[0;31mAttributeError\u001b[0m: 'MyClass' object has no attribute 'class_attribute'"
          ]
        }
      ]
    },
    {
      "cell_type": "markdown",
      "source": [
        "&nbsp;\n",
        "\n",
        "---\n",
        "\n",
        "Приклад: \"антиабстрактний клас\" -- клас, в якому є метод, який заборонено заміщувати в класах-нащадках"
      ],
      "metadata": {
        "id": "XyCQiWDxQj5l"
      }
    },
    {
      "cell_type": "code",
      "source": [
        "class NoOverrideMeta(type):\n",
        "    def __init__(cls, name, bases, dct):\n",
        "        # ........................................."
      ],
      "metadata": {
        "id": "CunO2IjYLFkc"
      },
      "execution_count": null,
      "outputs": []
    },
    {
      "cell_type": "code",
      "source": [
        "# Базовий клас з метакласом\n",
        "class BaseClass(metaclass=NoOverrideMeta):\n",
        "    def fixed(self):\n",
        "        print(\"Привіт від метода, який не можна перевизначати!\")\n",
        "\n",
        "    def regular_method(self):\n",
        "        print(\"Цей метод можна перевизначити.\")\n"
      ],
      "metadata": {
        "id": "usKFEZeBREiS"
      },
      "execution_count": null,
      "outputs": []
    },
    {
      "cell_type": "code",
      "source": [
        "class DerivedClass(BaseClass):\n",
        "    def regular_method(self):\n",
        "        print(\"Цей метод був перевизначений.\")\n"
      ],
      "metadata": {
        "id": "qXZI5ovFRF6Z"
      },
      "execution_count": null,
      "outputs": []
    },
    {
      "cell_type": "code",
      "source": [
        "# Приклад використання\n",
        "base = BaseClass()\n",
        "base.fixed()"
      ],
      "metadata": {
        "colab": {
          "base_uri": "https://localhost:8080/"
        },
        "id": "4zOfPijTRHJq",
        "outputId": "710eb60e-e7dc-462f-c0fc-f13aca414888"
      },
      "execution_count": null,
      "outputs": [
        {
          "output_type": "stream",
          "name": "stdout",
          "text": [
            "Привіт від метода, який не можна перевизначати!\n"
          ]
        }
      ]
    },
    {
      "cell_type": "code",
      "source": [
        "derived = DerivedClass()\n",
        "derived.fixed()\n",
        "derived.regular_method()"
      ],
      "metadata": {
        "colab": {
          "base_uri": "https://localhost:8080/"
        },
        "id": "B852MAc0ROaD",
        "outputId": "f560f334-c5eb-4cdb-f7ff-b1d247921975"
      },
      "execution_count": null,
      "outputs": [
        {
          "output_type": "stream",
          "name": "stdout",
          "text": [
            "Привіт від метода, який не можна перевизначати!\n",
            "Цей метод був перевизначений.\n"
          ]
        }
      ]
    },
    {
      "cell_type": "code",
      "source": [
        "class DerivedClass(BaseClass):\n",
        "    # Це спричинить помилку при створенні класу\n",
        "    def fixed(self):\n",
        "         print(\"Спроба!\")\n",
        "\n",
        "    def regular_method(self):\n",
        "        print(\"Цей2\")\n"
      ],
      "metadata": {
        "colab": {
          "base_uri": "https://localhost:8080/",
          "height": 315
        },
        "id": "GUKXikh1RK-K",
        "outputId": "6f0588b3-6012-462d-8a05-1731731b4d32"
      },
      "execution_count": null,
      "outputs": [
        {
          "output_type": "error",
          "ename": "TypeError",
          "evalue": "Метод 'fixed' не можна перевизначати в класі 'DerivedClass'",
          "traceback": [
            "\u001b[0;31m---------------------------------------------------------------------------\u001b[0m",
            "\u001b[0;31mTypeError\u001b[0m                                 Traceback (most recent call last)",
            "\u001b[0;32m<ipython-input-116-c0b78ca62994>\u001b[0m in \u001b[0;36m<cell line: 1>\u001b[0;34m()\u001b[0m\n\u001b[0;32m----> 1\u001b[0;31m \u001b[0;32mclass\u001b[0m \u001b[0mDerivedClass\u001b[0m\u001b[0;34m(\u001b[0m\u001b[0mBaseClass\u001b[0m\u001b[0;34m)\u001b[0m\u001b[0;34m:\u001b[0m\u001b[0;34m\u001b[0m\u001b[0;34m\u001b[0m\u001b[0m\n\u001b[0m\u001b[1;32m      2\u001b[0m     \u001b[0;31m# Це спричинить помилку при створенні класу\u001b[0m\u001b[0;34m\u001b[0m\u001b[0;34m\u001b[0m\u001b[0m\n\u001b[1;32m      3\u001b[0m     \u001b[0;32mdef\u001b[0m \u001b[0mfixed\u001b[0m\u001b[0;34m(\u001b[0m\u001b[0mself\u001b[0m\u001b[0;34m)\u001b[0m\u001b[0;34m:\u001b[0m\u001b[0;34m\u001b[0m\u001b[0;34m\u001b[0m\u001b[0m\n\u001b[1;32m      4\u001b[0m          \u001b[0mprint\u001b[0m\u001b[0;34m(\u001b[0m\u001b[0;34m\"Спроба!\"\u001b[0m\u001b[0;34m)\u001b[0m\u001b[0;34m\u001b[0m\u001b[0;34m\u001b[0m\u001b[0m\n\u001b[1;32m      5\u001b[0m \u001b[0;34m\u001b[0m\u001b[0m\n",
            "\u001b[0;32m<ipython-input-111-46938952307a>\u001b[0m in \u001b[0;36m__init__\u001b[0;34m(cls, name, bases, dct)\u001b[0m\n\u001b[1;32m     15\u001b[0m         \u001b[0;32mfor\u001b[0m \u001b[0mbase\u001b[0m \u001b[0;32min\u001b[0m \u001b[0mbases\u001b[0m\u001b[0;34m:\u001b[0m\u001b[0;34m\u001b[0m\u001b[0;34m\u001b[0m\u001b[0m\n\u001b[1;32m     16\u001b[0m             \u001b[0;32mif\u001b[0m \u001b[0;34m'fixed'\u001b[0m \u001b[0;32min\u001b[0m \u001b[0mbase\u001b[0m\u001b[0;34m.\u001b[0m\u001b[0m__dict__\u001b[0m \u001b[0;32mand\u001b[0m \u001b[0;34m'fixed'\u001b[0m \u001b[0;32min\u001b[0m \u001b[0mdct\u001b[0m\u001b[0;34m:\u001b[0m\u001b[0;34m\u001b[0m\u001b[0;34m\u001b[0m\u001b[0m\n\u001b[0;32m---> 17\u001b[0;31m                 \u001b[0;32mraise\u001b[0m \u001b[0mTypeError\u001b[0m\u001b[0;34m(\u001b[0m\u001b[0;34mf\"Метод 'fixed' не можна перевизначати в класі '{name}'\"\u001b[0m\u001b[0;34m)\u001b[0m\u001b[0;34m\u001b[0m\u001b[0;34m\u001b[0m\u001b[0m\n\u001b[0m\u001b[1;32m     18\u001b[0m         \u001b[0msuper\u001b[0m\u001b[0;34m(\u001b[0m\u001b[0;34m)\u001b[0m\u001b[0;34m.\u001b[0m\u001b[0m__init__\u001b[0m\u001b[0;34m(\u001b[0m\u001b[0mname\u001b[0m\u001b[0;34m,\u001b[0m \u001b[0mbases\u001b[0m\u001b[0;34m,\u001b[0m \u001b[0mdct\u001b[0m\u001b[0;34m)\u001b[0m\u001b[0;34m\u001b[0m\u001b[0;34m\u001b[0m\u001b[0m\n",
            "\u001b[0;31mTypeError\u001b[0m: Метод 'fixed' не можна перевизначати в класі 'DerivedClass'"
          ]
        }
      ]
    },
    {
      "cell_type": "markdown",
      "source": [
        "&nbsp;\n",
        "\n",
        "---"
      ],
      "metadata": {
        "id": "EJkgG0h9c72k"
      }
    },
    {
      "cell_type": "code",
      "source": [
        "class LimitedInstances(type):\n",
        "    _instances = {}\n",
        "    instance_limit = 0\n",
        "\n",
        "    def __call__(cls, *args, **kwargs):\n",
        "        if len(cls._instances.get(cls, [])) < cls.instance_limit:\n",
        "            instance = super().__call__(*args, **kwargs)\n",
        "            cls._instances.setdefault(cls, []).append(instance)\n",
        "            return instance\n",
        "        return cls._instances[cls][0]  # Return the first instance if limit is reached\n",
        "#"
      ],
      "metadata": {
        "id": "oa2exlN4c-I2"
      },
      "execution_count": null,
      "outputs": []
    },
    {
      "cell_type": "code",
      "source": [
        "class LC(metaclass=LimitedInstances):\n",
        "    def __init__(self, x):\n",
        "        self.value = x\n",
        "obj = LC(5)"
      ],
      "metadata": {
        "colab": {
          "base_uri": "https://localhost:8080/",
          "height": 280
        },
        "id": "t-n8FxM8h63f",
        "outputId": "8726ae50-40fe-4beb-9cbf-ad974a71bd3e"
      },
      "execution_count": null,
      "outputs": [
        {
          "output_type": "error",
          "ename": "KeyError",
          "evalue": "<class '__main__.LC'>",
          "traceback": [
            "\u001b[0;31m---------------------------------------------------------------------------\u001b[0m",
            "\u001b[0;31mKeyError\u001b[0m                                  Traceback (most recent call last)",
            "\u001b[0;32m<ipython-input-179-3a1490aea9c9>\u001b[0m in \u001b[0;36m<cell line: 4>\u001b[0;34m()\u001b[0m\n\u001b[1;32m      2\u001b[0m     \u001b[0;32mdef\u001b[0m \u001b[0m__init__\u001b[0m\u001b[0;34m(\u001b[0m\u001b[0mself\u001b[0m\u001b[0;34m,\u001b[0m \u001b[0mx\u001b[0m\u001b[0;34m)\u001b[0m\u001b[0;34m:\u001b[0m\u001b[0;34m\u001b[0m\u001b[0;34m\u001b[0m\u001b[0m\n\u001b[1;32m      3\u001b[0m         \u001b[0mself\u001b[0m\u001b[0;34m.\u001b[0m\u001b[0mvalue\u001b[0m \u001b[0;34m=\u001b[0m \u001b[0mx\u001b[0m\u001b[0;34m\u001b[0m\u001b[0;34m\u001b[0m\u001b[0m\n\u001b[0;32m----> 4\u001b[0;31m \u001b[0mobj\u001b[0m \u001b[0;34m=\u001b[0m \u001b[0mLC\u001b[0m\u001b[0;34m(\u001b[0m\u001b[0;36m5\u001b[0m\u001b[0;34m)\u001b[0m\u001b[0;34m\u001b[0m\u001b[0;34m\u001b[0m\u001b[0m\n\u001b[0m",
            "\u001b[0;32m<ipython-input-178-8ec6def1fffe>\u001b[0m in \u001b[0;36m__call__\u001b[0;34m(cls, *args, **kwargs)\u001b[0m\n\u001b[1;32m      8\u001b[0m             \u001b[0mcls\u001b[0m\u001b[0;34m.\u001b[0m\u001b[0m_instances\u001b[0m\u001b[0;34m.\u001b[0m\u001b[0msetdefault\u001b[0m\u001b[0;34m(\u001b[0m\u001b[0mcls\u001b[0m\u001b[0;34m,\u001b[0m \u001b[0;34m[\u001b[0m\u001b[0;34m]\u001b[0m\u001b[0;34m)\u001b[0m\u001b[0;34m.\u001b[0m\u001b[0mappend\u001b[0m\u001b[0;34m(\u001b[0m\u001b[0minstance\u001b[0m\u001b[0;34m)\u001b[0m\u001b[0;34m\u001b[0m\u001b[0;34m\u001b[0m\u001b[0m\n\u001b[1;32m      9\u001b[0m             \u001b[0;32mreturn\u001b[0m \u001b[0minstance\u001b[0m\u001b[0;34m\u001b[0m\u001b[0;34m\u001b[0m\u001b[0m\n\u001b[0;32m---> 10\u001b[0;31m         \u001b[0;32mreturn\u001b[0m \u001b[0mcls\u001b[0m\u001b[0;34m.\u001b[0m\u001b[0m_instances\u001b[0m\u001b[0;34m[\u001b[0m\u001b[0mcls\u001b[0m\u001b[0;34m]\u001b[0m\u001b[0;34m[\u001b[0m\u001b[0;36m0\u001b[0m\u001b[0;34m]\u001b[0m  \u001b[0;31m# Return the first instance if limit is reached\u001b[0m\u001b[0;34m\u001b[0m\u001b[0;34m\u001b[0m\u001b[0m\n\u001b[0m\u001b[1;32m     11\u001b[0m \u001b[0;31m#\u001b[0m\u001b[0;34m\u001b[0m\u001b[0;34m\u001b[0m\u001b[0m\n",
            "\u001b[0;31mKeyError\u001b[0m: <class '__main__.LC'>"
          ]
        }
      ]
    },
    {
      "cell_type": "code",
      "source": [
        "class LimitedSingleton(metaclass=LimitedInstances):\n",
        "    instance_limit = 1\n",
        "\n",
        "    def __init__(self, x):\n",
        "        self.value = x\n",
        "\n",
        "x1 = LimitedSingleton(\"x1\")\n",
        "x2 = LimitedSingleton(\"x2\")\n",
        "print(x1, x2)\n",
        "print(x1.value, x2.value)\n",
        "print(x1 is x2)"
      ],
      "metadata": {
        "colab": {
          "base_uri": "https://localhost:8080/"
        },
        "id": "9KLvx-DBhTjl",
        "outputId": "f069e492-59b1-4b81-a8b9-3c9f10cd7f95"
      },
      "execution_count": null,
      "outputs": [
        {
          "output_type": "stream",
          "name": "stdout",
          "text": [
            "<__main__.LimitedSingleton object at 0x79b0a42e1540> <__main__.LimitedSingleton object at 0x79b0a42e1540>\n",
            "x1 x1\n",
            "True\n"
          ]
        }
      ]
    },
    {
      "cell_type": "code",
      "source": [
        "# 'Tripleton' --  allow up to 3 instances\n",
        "class TripletonExample(LimitedSingleton):\n",
        "    instance_limit = 3"
      ],
      "metadata": {
        "id": "Fc4BW6egdEIT"
      },
      "execution_count": null,
      "outputs": []
    },
    {
      "cell_type": "code",
      "source": [
        "a = TripletonExample(\"o1\")\n",
        "b = TripletonExample(\"o2\")\n",
        "c = TripletonExample(\"o3\")\n",
        "d = TripletonExample(\"o4\")\n",
        "\n",
        "print(a.value, b.value, c.value, d.value)"
      ],
      "metadata": {
        "colab": {
          "base_uri": "https://localhost:8080/"
        },
        "id": "9ep_LS6xg1Q6",
        "outputId": "385894e5-9338-47c1-e866-7e45889bf187"
      },
      "execution_count": null,
      "outputs": [
        {
          "output_type": "stream",
          "name": "stdout",
          "text": [
            "o1 o2 o3 o1\n"
          ]
        }
      ]
    },
    {
      "cell_type": "code",
      "source": [
        "print(a is b, b is c, c is d, a is d)"
      ],
      "metadata": {
        "colab": {
          "base_uri": "https://localhost:8080/"
        },
        "id": "FMzybWjvhGhT",
        "outputId": "2387117a-a493-4768-b7a2-e4577171ef57"
      },
      "execution_count": null,
      "outputs": [
        {
          "output_type": "stream",
          "name": "stdout",
          "text": [
            "False False False True\n"
          ]
        }
      ]
    },
    {
      "cell_type": "code",
      "source": [
        "LimitedInstances._instances"
      ],
      "metadata": {
        "colab": {
          "base_uri": "https://localhost:8080/"
        },
        "id": "cMncvWFSiVto",
        "outputId": "625a7554-3898-46b5-ade0-a9f13015be1e"
      },
      "execution_count": null,
      "outputs": [
        {
          "output_type": "execute_result",
          "data": {
            "text/plain": [
              "{__main__.LimitedSingleton: [<__main__.LimitedSingleton at 0x79b0a42e1540>],\n",
              " __main__.TripletonExample: [<__main__.TripletonExample at 0x79b0a42e1f30>,\n",
              "  <__main__.TripletonExample at 0x79b0a42e3520>,\n",
              "  <__main__.TripletonExample at 0x79b0a42e1000>]}"
            ]
          },
          "metadata": {},
          "execution_count": 185
        }
      ]
    },
    {
      "cell_type": "markdown",
      "source": [
        "Інший варіант реалізації:"
      ],
      "metadata": {
        "id": "cWP0TtOniRfr"
      }
    },
    {
      "cell_type": "code",
      "source": [
        "def hook(nm):\n",
        "    def func(*a, **k):\n",
        "        res = getattr(type, nm)(*a, **k)\n",
        "        print(nm, ':', a, ';', k, '--->', res)\n",
        "        return res\n",
        "    return func\n",
        "verbose_type = type('TP', (type,), {nm: hook(nm) for nm in ['__new__', '__init__', '__call__']})"
      ],
      "metadata": {
        "id": "3mpjgTj4lTAf"
      },
      "execution_count": null,
      "outputs": []
    },
    {
      "cell_type": "code",
      "source": [
        "class B(metaclass=verbose_type):\n",
        "    pass"
      ],
      "metadata": {
        "colab": {
          "base_uri": "https://localhost:8080/"
        },
        "id": "e7_FR_qHm9kN",
        "outputId": "5c5cf328-506a-47a1-9834-46994031497b"
      },
      "execution_count": null,
      "outputs": [
        {
          "output_type": "stream",
          "name": "stdout",
          "text": [
            "__new__ : (<class '__main__.TP'>, 'B', (), {'__module__': '__main__', '__qualname__': 'B'}) ; {} ---> <class '__main__.B'>\n",
            "__init__ : (<class '__main__.B'>, 'B', (), {'__module__': '__main__', '__qualname__': 'B'}) ; {} ---> None\n"
          ]
        }
      ]
    },
    {
      "cell_type": "code",
      "source": [
        "b1 = B()\n",
        "b2 = B()"
      ],
      "metadata": {
        "colab": {
          "base_uri": "https://localhost:8080/"
        },
        "id": "Kbj1SuNlm-qJ",
        "outputId": "7484d0d1-fdf9-40a0-8245-f22cba814c46"
      },
      "execution_count": null,
      "outputs": [
        {
          "output_type": "stream",
          "name": "stdout",
          "text": [
            "__call__ : (<class '__main__.B'>,) ; {} ---> <__main__.B object at 0x79b0819ce3e0>\n",
            "__call__ : (<class '__main__.B'>,) ; {} ---> <__main__.B object at 0x79b0819cf2b0>\n"
          ]
        }
      ]
    },
    {
      "cell_type": "code",
      "source": [
        "class C(B):\n",
        "    pass"
      ],
      "metadata": {
        "colab": {
          "base_uri": "https://localhost:8080/"
        },
        "id": "wD8UvjPTl2za",
        "outputId": "5717d5f9-aa28-401c-9453-51d08e601457"
      },
      "execution_count": null,
      "outputs": [
        {
          "output_type": "stream",
          "name": "stdout",
          "text": [
            "__new__ : (<class '__main__.TP'>, 'C', (<class '__main__.B'>,), {'__module__': '__main__', '__qualname__': 'C'}) ; {} ---> <class '__main__.C'>\n",
            "__init__ : (<class '__main__.C'>, 'C', (<class '__main__.B'>,), {'__module__': '__main__', '__qualname__': 'C'}) ; {} ---> None\n"
          ]
        }
      ]
    },
    {
      "cell_type": "code",
      "source": [
        "c1 = C()\n",
        "c2 = C()"
      ],
      "metadata": {
        "colab": {
          "base_uri": "https://localhost:8080/"
        },
        "id": "hlGdLS-znBSt",
        "outputId": "99a5e971-f911-47e9-b7c4-049bc81ac3d6"
      },
      "execution_count": null,
      "outputs": [
        {
          "output_type": "stream",
          "name": "stdout",
          "text": [
            "__call__ : (<class '__main__.C'>,) ; {} ---> <__main__.C object at 0x79b0819cf910>\n",
            "__call__ : (<class '__main__.C'>,) ; {} ---> <__main__.C object at 0x79b0819cc9d0>\n"
          ]
        }
      ]
    },
    {
      "cell_type": "code",
      "source": [
        "class Multiton(type):\n",
        "    _storage = {}\n",
        "    def __new__(cls, name, bases, dct, max_instances = 0):\n",
        "        reslt = super().__new__(cls, name, bases, dct)\n",
        "        reslt._num_objs = 0\n",
        "        print(f'__new__ in {cls}; reslt = {reslt}')\n",
        "\n",
        "        original_new = reslt.__new__\n",
        "\n",
        "        def fake_new(objclass, *args, **kwargs):\n",
        "            print(f'__new__ called in {reslt}, with params', end=' ')\n",
        "            print(objclass, objclass._num_objs,  max_instances)\n",
        "            if objclass._num_objs < max_instances:\n",
        "                instance = original_new(objclass, *args, **kwargs)\n",
        "                objclass._num_objs += 1\n",
        "                return instance\n",
        "            else:\n",
        "                raise Exception(f\"Cannot create {cls.__name__}\")\n",
        "\n",
        "        reslt.__new__ = fake_new # !!!\n",
        "        return reslt\n",
        "\n",
        "class A1(metaclass=Multiton, max_instances=1):\n",
        "  pass"
      ],
      "metadata": {
        "colab": {
          "base_uri": "https://localhost:8080/"
        },
        "id": "y198nOdkkkrN",
        "outputId": "59a2cc8b-d758-4ea0-e123-197919ebbec2"
      },
      "execution_count": null,
      "outputs": [
        {
          "output_type": "stream",
          "name": "stdout",
          "text": [
            "__new__ in <class '__main__.Multiton'>; reslt = <class '__main__.A1'>\n"
          ]
        }
      ]
    },
    {
      "cell_type": "code",
      "source": [
        "a1 = A1()\n",
        "a2 = A1()"
      ],
      "metadata": {
        "colab": {
          "base_uri": "https://localhost:8080/",
          "height": 315
        },
        "id": "hoHleTZFh78T",
        "outputId": "4628c017-9176-4c03-cb01-06748dc1da11"
      },
      "execution_count": null,
      "outputs": [
        {
          "output_type": "stream",
          "name": "stdout",
          "text": [
            "__new__ called in <class '__main__.A1'>, with params <class '__main__.A1'> 0 1\n",
            "__new__ called in <class '__main__.A1'>, with params <class '__main__.A1'> 1 1\n"
          ]
        },
        {
          "output_type": "error",
          "ename": "Exception",
          "evalue": "Cannot create Multiton",
          "traceback": [
            "\u001b[0;31m---------------------------------------------------------------------------\u001b[0m",
            "\u001b[0;31mException\u001b[0m                                 Traceback (most recent call last)",
            "\u001b[0;32m<ipython-input-233-c1525d42a9de>\u001b[0m in \u001b[0;36m<cell line: 2>\u001b[0;34m()\u001b[0m\n\u001b[1;32m      1\u001b[0m \u001b[0ma1\u001b[0m \u001b[0;34m=\u001b[0m \u001b[0mA1\u001b[0m\u001b[0;34m(\u001b[0m\u001b[0;34m)\u001b[0m\u001b[0;34m\u001b[0m\u001b[0;34m\u001b[0m\u001b[0m\n\u001b[0;32m----> 2\u001b[0;31m \u001b[0ma2\u001b[0m \u001b[0;34m=\u001b[0m \u001b[0mA1\u001b[0m\u001b[0;34m(\u001b[0m\u001b[0;34m)\u001b[0m\u001b[0;34m\u001b[0m\u001b[0;34m\u001b[0m\u001b[0m\n\u001b[0m",
            "\u001b[0;32m<ipython-input-232-ab6e6b48d069>\u001b[0m in \u001b[0;36mfake_new\u001b[0;34m(objclass, *args, **kwargs)\u001b[0m\n\u001b[1;32m     16\u001b[0m                 \u001b[0;32mreturn\u001b[0m \u001b[0minstance\u001b[0m\u001b[0;34m\u001b[0m\u001b[0;34m\u001b[0m\u001b[0m\n\u001b[1;32m     17\u001b[0m             \u001b[0;32melse\u001b[0m\u001b[0;34m:\u001b[0m\u001b[0;34m\u001b[0m\u001b[0;34m\u001b[0m\u001b[0m\n\u001b[0;32m---> 18\u001b[0;31m                 \u001b[0;32mraise\u001b[0m \u001b[0mException\u001b[0m\u001b[0;34m(\u001b[0m\u001b[0;34mf\"Cannot create {cls.__name__}\"\u001b[0m\u001b[0;34m)\u001b[0m\u001b[0;34m\u001b[0m\u001b[0;34m\u001b[0m\u001b[0m\n\u001b[0m\u001b[1;32m     19\u001b[0m \u001b[0;34m\u001b[0m\u001b[0m\n\u001b[1;32m     20\u001b[0m         \u001b[0mreslt\u001b[0m\u001b[0;34m.\u001b[0m\u001b[0m__new__\u001b[0m \u001b[0;34m=\u001b[0m \u001b[0mfake_new\u001b[0m \u001b[0;31m# !!!\u001b[0m\u001b[0;34m\u001b[0m\u001b[0;34m\u001b[0m\u001b[0m\n",
            "\u001b[0;31mException\u001b[0m: Cannot create Multiton"
          ]
        }
      ]
    },
    {
      "cell_type": "code",
      "source": [
        "class B3(metaclass=Multiton, max_instances=3):\n",
        "  pass\n",
        "b1 = B3()\n",
        "b2 = B3()\n",
        "b3 = B3()"
      ],
      "metadata": {
        "colab": {
          "base_uri": "https://localhost:8080/"
        },
        "id": "WjgfgyVLjTi0",
        "outputId": "d5cc2abf-88b1-41b2-ea08-f814e03632ef"
      },
      "execution_count": null,
      "outputs": [
        {
          "output_type": "stream",
          "name": "stdout",
          "text": [
            "__new__ in <class '__main__.Multiton'>; reslt = <class '__main__.B3'>\n",
            "__new__ called in <class '__main__.B3'>, with params <class '__main__.B3'> 0 3\n",
            "__new__ called in <class '__main__.B3'>, with params <class '__main__.B3'> 1 3\n",
            "__new__ called in <class '__main__.B3'>, with params <class '__main__.B3'> 2 3\n"
          ]
        }
      ]
    },
    {
      "cell_type": "code",
      "source": [
        "dir(B3)"
      ],
      "metadata": {
        "colab": {
          "base_uri": "https://localhost:8080/"
        },
        "id": "kcPAWPhhouYY",
        "outputId": "bf581810-306d-45e3-d808-834ada79453e"
      },
      "execution_count": null,
      "outputs": [
        {
          "output_type": "execute_result",
          "data": {
            "text/plain": [
              "['__class__',\n",
              " '__delattr__',\n",
              " '__dict__',\n",
              " '__dir__',\n",
              " '__doc__',\n",
              " '__eq__',\n",
              " '__format__',\n",
              " '__ge__',\n",
              " '__getattribute__',\n",
              " '__gt__',\n",
              " '__hash__',\n",
              " '__init__',\n",
              " '__init_subclass__',\n",
              " '__le__',\n",
              " '__lt__',\n",
              " '__module__',\n",
              " '__ne__',\n",
              " '__new__',\n",
              " '__reduce__',\n",
              " '__reduce_ex__',\n",
              " '__repr__',\n",
              " '__setattr__',\n",
              " '__sizeof__',\n",
              " '__str__',\n",
              " '__subclasshook__',\n",
              " '__weakref__',\n",
              " '_num_objs']"
            ]
          },
          "metadata": {},
          "execution_count": 235
        }
      ]
    },
    {
      "cell_type": "code",
      "source": [
        "B3._num_objs"
      ],
      "metadata": {
        "colab": {
          "base_uri": "https://localhost:8080/"
        },
        "id": "eiiCIMIlo0J3",
        "outputId": "a78979b3-b056-4c13-8424-671df8d6abac"
      },
      "execution_count": null,
      "outputs": [
        {
          "output_type": "execute_result",
          "data": {
            "text/plain": [
              "3"
            ]
          },
          "metadata": {},
          "execution_count": 236
        }
      ]
    },
    {
      "cell_type": "code",
      "source": [
        "b4 = B3()"
      ],
      "metadata": {
        "colab": {
          "base_uri": "https://localhost:8080/",
          "height": 280
        },
        "id": "Y1AUL1wWouik",
        "outputId": "4baf3439-e71d-4e6e-b52b-d5a1a8b446ef"
      },
      "execution_count": null,
      "outputs": [
        {
          "output_type": "stream",
          "name": "stdout",
          "text": [
            "__new__ called in <class '__main__.B3'>, with params <class '__main__.B3'> 3 3\n"
          ]
        },
        {
          "output_type": "error",
          "ename": "Exception",
          "evalue": "Cannot create Multiton",
          "traceback": [
            "\u001b[0;31m---------------------------------------------------------------------------\u001b[0m",
            "\u001b[0;31mException\u001b[0m                                 Traceback (most recent call last)",
            "\u001b[0;32m<ipython-input-237-24561a8e9207>\u001b[0m in \u001b[0;36m<cell line: 1>\u001b[0;34m()\u001b[0m\n\u001b[0;32m----> 1\u001b[0;31m \u001b[0mb4\u001b[0m \u001b[0;34m=\u001b[0m \u001b[0mB3\u001b[0m\u001b[0;34m(\u001b[0m\u001b[0;34m)\u001b[0m\u001b[0;34m\u001b[0m\u001b[0;34m\u001b[0m\u001b[0m\n\u001b[0m",
            "\u001b[0;32m<ipython-input-232-ab6e6b48d069>\u001b[0m in \u001b[0;36mfake_new\u001b[0;34m(objclass, *args, **kwargs)\u001b[0m\n\u001b[1;32m     16\u001b[0m                 \u001b[0;32mreturn\u001b[0m \u001b[0minstance\u001b[0m\u001b[0;34m\u001b[0m\u001b[0;34m\u001b[0m\u001b[0m\n\u001b[1;32m     17\u001b[0m             \u001b[0;32melse\u001b[0m\u001b[0;34m:\u001b[0m\u001b[0;34m\u001b[0m\u001b[0;34m\u001b[0m\u001b[0m\n\u001b[0;32m---> 18\u001b[0;31m                 \u001b[0;32mraise\u001b[0m \u001b[0mException\u001b[0m\u001b[0;34m(\u001b[0m\u001b[0;34mf\"Cannot create {cls.__name__}\"\u001b[0m\u001b[0;34m)\u001b[0m\u001b[0;34m\u001b[0m\u001b[0;34m\u001b[0m\u001b[0m\n\u001b[0m\u001b[1;32m     19\u001b[0m \u001b[0;34m\u001b[0m\u001b[0m\n\u001b[1;32m     20\u001b[0m         \u001b[0mreslt\u001b[0m\u001b[0;34m.\u001b[0m\u001b[0m__new__\u001b[0m \u001b[0;34m=\u001b[0m \u001b[0mfake_new\u001b[0m \u001b[0;31m# !!!\u001b[0m\u001b[0;34m\u001b[0m\u001b[0;34m\u001b[0m\u001b[0m\n",
            "\u001b[0;31mException\u001b[0m: Cannot create Multiton"
          ]
        }
      ]
    },
    {
      "cell_type": "markdown",
      "source": [
        "&nbsp;\n",
        "\n",
        "---\n",
        "\n",
        "Бонус -- multiple inheritance for metaclasses:"
      ],
      "metadata": {
        "id": "ptfeB9ePcUGj"
      }
    },
    {
      "cell_type": "code",
      "source": [
        "class Meta1(type):\n",
        "    def __init__(cls, name, bases, dct):\n",
        "        super().__init__(name, bases, dct)\n",
        "        print(f\"Meta1 for {name}\")\n",
        "\n",
        "class Meta2(type):\n",
        "    def __init__(cls, name, bases, dct):\n",
        "        super().__init__(name, bases, dct)\n",
        "        print(f\"Meta2 for {name}\")\n",
        "\n",
        "class CombinedMeta(Meta1, Meta2):\n",
        "    pass"
      ],
      "metadata": {
        "id": "AodUWVwNRbBs"
      },
      "execution_count": null,
      "outputs": []
    },
    {
      "cell_type": "code",
      "source": [
        "class MyClass(metaclass=CombinedMeta):\n",
        "    pass"
      ],
      "metadata": {
        "colab": {
          "base_uri": "https://localhost:8080/"
        },
        "id": "ztlgvc1gcWkf",
        "outputId": "c9388e4c-e34f-4353-fe94-88be00667ec1"
      },
      "execution_count": null,
      "outputs": [
        {
          "output_type": "stream",
          "name": "stdout",
          "text": [
            "Meta2 for MyClass\n",
            "Meta1 for MyClass\n"
          ]
        }
      ]
    },
    {
      "cell_type": "code",
      "source": [],
      "metadata": {
        "id": "46sik4bwcY4w"
      },
      "execution_count": null,
      "outputs": []
    }
  ]
}